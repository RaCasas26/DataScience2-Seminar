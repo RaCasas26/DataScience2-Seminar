{
  "nbformat": 4,
  "nbformat_minor": 0,
  "metadata": {
    "colab": {
      "name": "main.ipynb",
      "provenance": [],
      "collapsed_sections": []
    },
    "kernelspec": {
      "name": "python3",
      "display_name": "Python 3"
    }
  },
  "cells": [
    {
      "cell_type": "markdown",
      "metadata": {
        "id": "ZNlpEYHNjcT_"
      },
      "source": [
        "#  Seminar on Dinmensionality Reduction\n",
        "## Data Science (masters)\n",
        "## Math 5364 & 5366, Fall 20 & Spring 21\n",
        "## Tarleton State University\n",
        "## Dr. Scott Cook\n",
        "## March 17th, 2021"
      ]
    },
    {
      "cell_type": "markdown",
      "metadata": {
        "id": "oVisLXgwoG3f"
      },
      "source": [
        "\n",
        "## Background\n",
        "The spread of diseases by the vector, mosquito, is a major topic in epidemiology. Mosquitoes are known to transmit malaria, the West Nile virus, chikungunya, the Zika virus, and dengue fever among other diseases. Mosquitoes of the genus *Aedes* have populated the globe due to trade, and the two species *Aedes aegypti* and *Aedes albopictus* are known to be carriers of the Zika virus and dengue fever. In particular, these species are known to be prevalent throughout the southern United States, and efforts to control their populations have been attempted.\n",
        "\n",
        "A study by Myer et al. (2019) considered several ecological, socioeconomical, and meteorological factors in the understanding of how both species of mosquitoes thrive in Brownsville, TX. This study provided a data set on the number of mosquitoes trapped for both species at particular locations of Brownsville. To further explore other potential models for the population dynamics of both these species, regressors were considered in the mapping of these populations based on only the ecological and meteorological variables given from this study. \n"
      ]
    },
    {
      "cell_type": "markdown",
      "metadata": {
        "id": "pXCBNKYzUARp"
      },
      "source": [
        "## Data Processing and Exploration"
      ]
    },
    {
      "cell_type": "code",
      "metadata": {
        "id": "ZrV6I7kE-HFz",
        "colab": {
          "base_uri": "https://localhost:8080/"
        },
        "outputId": "4c349eb0-1226-449c-b3f1-2f887f9d4bce"
      },
      "source": [
        "! pip install --upgrade numpy\n",
        "! pip install --upgrade pandas"
      ],
      "execution_count": null,
      "outputs": [
        {
          "output_type": "stream",
          "text": [
            "Requirement already up-to-date: numpy in /usr/local/lib/python3.6/dist-packages (1.19.4)\n",
            "Requirement already up-to-date: pandas in /usr/local/lib/python3.6/dist-packages (1.1.5)\n",
            "Requirement already satisfied, skipping upgrade: python-dateutil>=2.7.3 in /usr/local/lib/python3.6/dist-packages (from pandas) (2.8.1)\n",
            "Requirement already satisfied, skipping upgrade: pytz>=2017.2 in /usr/local/lib/python3.6/dist-packages (from pandas) (2018.9)\n",
            "Requirement already satisfied, skipping upgrade: numpy>=1.15.4 in /usr/local/lib/python3.6/dist-packages (from pandas) (1.19.4)\n",
            "Requirement already satisfied, skipping upgrade: six>=1.5 in /usr/local/lib/python3.6/dist-packages (from python-dateutil>=2.7.3->pandas) (1.15.0)\n"
          ],
          "name": "stdout"
        }
      ]
    },
    {
      "cell_type": "code",
      "metadata": {
        "colab": {
          "base_uri": "https://localhost:8080/"
        },
        "id": "q5MUvP7dpJzC",
        "outputId": "d0d2fd07-9e76-4fe1-fae7-b0c7e3422f0b"
      },
      "source": [
        "import numpy as np\n",
        "import pandas as pd\n",
        "import requests\n",
        "import io\n",
        "from copy import deepcopy  \n",
        "from sklearn.neighbors import KNeighborsRegressor\n",
        "from sklearn.ensemble import RandomForestRegressor\n",
        "from sklearn.tree import DecisionTreeRegressor\n",
        "from sklearn.linear_model import Lasso\n",
        "from sklearn.decomposition import PCA\n",
        "from sklearn.preprocessing import StandardScaler \n",
        "from sklearn.preprocessing import MinMaxScaler\n",
        "from sklearn.preprocessing import RobustScaler\n",
        "from sklearn.pipeline import Pipeline\n",
        "from sklearn.model_selection import ShuffleSplit\n",
        "from sklearn.model_selection import GridSearchCV\n",
        "from sklearn.metrics import r2_score\n",
        "from sklearn.metrics import mean_squared_error\n",
        "\n",
        "pd.set_option('display.max_columns', 25)\n",
        "\n",
        "from google.colab import drive\n",
        "drive.mount('/content/drive')"
      ],
      "execution_count": null,
      "outputs": [
        {
          "output_type": "stream",
          "text": [
            "Drive already mounted at /content/drive; to attempt to forcibly remount, call drive.mount(\"/content/drive\", force_remount=True).\n"
          ],
          "name": "stdout"
        }
      ]
    },
    {
      "cell_type": "code",
      "metadata": {
        "id": "GFoQJikA-55f"
      },
      "source": [
        "# Find the BrownsvilleData_SciHub.csv file in the Files menu on the left\n",
        "# Right click the file and click Copy Path\n",
        "# Paste the path between the quotation marks below\n",
        "path = \"/content/drive/MyDrive/Data_ScienceF20_Final/BrownsvilleData_SciHub.csv\"\n",
        "df = pd.read_csv(path)\n",
        "\n",
        "names = ['ID', 'TrapNumber',\n",
        "         'y_aeg','y_albo',\n",
        "         'Lat','Long','Date',\n",
        "         'isoweek','Total',\n",
        "         'Proportion_Water_10','Proportion_Impervious_20','Proportion_Soil_30','Proportion_Tree_40',\n",
        "         'Proportion_Shrub_52','Proportion_Grass_70','Proportion_WW_91','Proportion_EW_92',\n",
        "         'VegHi','MedianValue','AvgPopDens',\n",
        "         'Prop_2010_newer','Prop_2000_2009','Prop_1990_1999',\n",
        "         'Prop_1980_1989','Prop_1970_1979','Prop_1960_1969',\n",
        "         'Prop_1950_1959','Prop_1940_1949','Prop_1939_older',\n",
        "         'ordweek','Prcp','Tmax','Tmin','Rad','VPres','L1Prcp','L1Tmax','L1Tmin',\n",
        "         'L1Rad','L1VPres','L2Prcp','L2Tmax','L2Tmin','L2Rad','L2Vpres','Prop_1949_older',\n",
        "         'Prop_1959_older','Prop_1969_older','Prop_1979_older',\n",
        "         'Prop_1989_older','Prop_1999_older','Prop_2009_older','Temp','L1Temp','L2Temp']\n",
        "df.columns = names\n",
        "total_mos = df['y_aeg'] + df['y_albo']\n",
        "df.insert(4, 'Total_mos', total_mos, True)\n",
        "org_df = df.copy()\n",
        "\n",
        "dropped = ['ID', 'TrapNumber','Lat','Long','Date',\n",
        "        'isoweek','Total','MedianValue','Prop_2010_newer','Prop_2000_2009','Prop_1990_1999',\n",
        "        'Prop_1980_1989','Prop_1970_1979','Prop_1960_1969',\n",
        "        'Prop_1950_1959','Prop_1940_1949','Prop_1939_older',\n",
        "        'ordweek','Tmax','Tmin','L1Tmax','L1Tmin','L2Tmax','L2Tmin',\n",
        "         'Prop_1949_older','Prop_1959_older','Prop_1969_older','Prop_1979_older',\n",
        "        'Prop_1989_older','Prop_1999_older','Prop_2009_older']\n",
        "df = df.drop(columns=dropped, axis = 1)\n",
        "\n",
        "df_mos = df.drop(columns=['Total_mos'])\n",
        "df_total = df.drop(columns=['y_aeg', 'y_albo'])\n"
      ],
      "execution_count": null,
      "outputs": []
    },
    {
      "cell_type": "markdown",
      "metadata": {
        "id": "SybTFd3p0lHi"
      },
      "source": [
        "### Dataset\n",
        "The data set given has 5367 data points with a total of 53 variables. Of those variables, the ones of interest for predicting the number of both species individually and collectively were the types of land cover and the various weather-related variables such as precipitation, humidity, and average temperature. In addition to these, the weather-related variables 1 week and 2 weeks prior to the counting of the mosquito species were included since past weather patterns play an essential role in mosquito reproduction. As a result, only 25 variables were considered in the making of the models. Since there were no missing values in the data set, no imputations were required."
      ]
    },
    {
      "cell_type": "code",
      "metadata": {
        "id": "nZf2aqA_YGZB",
        "colab": {
          "base_uri": "https://localhost:8080/",
          "height": 320
        },
        "outputId": "fd8eadb8-1853-4944-f5ba-a8fa1df2d64d"
      },
      "source": [
        "df.describe()"
      ],
      "execution_count": null,
      "outputs": [
        {
          "output_type": "execute_result",
          "data": {
            "text/html": [
              "<div>\n",
              "<style scoped>\n",
              "    .dataframe tbody tr th:only-of-type {\n",
              "        vertical-align: middle;\n",
              "    }\n",
              "\n",
              "    .dataframe tbody tr th {\n",
              "        vertical-align: top;\n",
              "    }\n",
              "\n",
              "    .dataframe thead th {\n",
              "        text-align: right;\n",
              "    }\n",
              "</style>\n",
              "<table border=\"1\" class=\"dataframe\">\n",
              "  <thead>\n",
              "    <tr style=\"text-align: right;\">\n",
              "      <th></th>\n",
              "      <th>y_aeg</th>\n",
              "      <th>y_albo</th>\n",
              "      <th>Total_mos</th>\n",
              "      <th>Proportion_Water_10</th>\n",
              "      <th>Proportion_Impervious_20</th>\n",
              "      <th>Proportion_Soil_30</th>\n",
              "      <th>Proportion_Tree_40</th>\n",
              "      <th>Proportion_Shrub_52</th>\n",
              "      <th>Proportion_Grass_70</th>\n",
              "      <th>Proportion_WW_91</th>\n",
              "      <th>Proportion_EW_92</th>\n",
              "      <th>VegHi</th>\n",
              "      <th>AvgPopDens</th>\n",
              "      <th>Prcp</th>\n",
              "      <th>Rad</th>\n",
              "      <th>VPres</th>\n",
              "      <th>L1Prcp</th>\n",
              "      <th>L1Rad</th>\n",
              "      <th>L1VPres</th>\n",
              "      <th>L2Prcp</th>\n",
              "      <th>L2Rad</th>\n",
              "      <th>L2Vpres</th>\n",
              "      <th>Temp</th>\n",
              "      <th>L1Temp</th>\n",
              "      <th>L2Temp</th>\n",
              "    </tr>\n",
              "  </thead>\n",
              "  <tbody>\n",
              "    <tr>\n",
              "      <th>count</th>\n",
              "      <td>5367.000000</td>\n",
              "      <td>5367.000000</td>\n",
              "      <td>5367.000000</td>\n",
              "      <td>5367.000000</td>\n",
              "      <td>5367.000000</td>\n",
              "      <td>5367.000000</td>\n",
              "      <td>5367.000000</td>\n",
              "      <td>5367.000000</td>\n",
              "      <td>5367.000000</td>\n",
              "      <td>5367.000000</td>\n",
              "      <td>5367.000000</td>\n",
              "      <td>5367.000000</td>\n",
              "      <td>5367.000000</td>\n",
              "      <td>5367.000000</td>\n",
              "      <td>5367.000000</td>\n",
              "      <td>5367.000000</td>\n",
              "      <td>5367.000000</td>\n",
              "      <td>5367.000000</td>\n",
              "      <td>5367.000000</td>\n",
              "      <td>5367.000000</td>\n",
              "      <td>5367.000000</td>\n",
              "      <td>5367.000000</td>\n",
              "      <td>5367.000000</td>\n",
              "      <td>5367.000000</td>\n",
              "      <td>5367.000000</td>\n",
              "    </tr>\n",
              "    <tr>\n",
              "      <th>mean</th>\n",
              "      <td>6.592137</td>\n",
              "      <td>0.403764</td>\n",
              "      <td>6.995901</td>\n",
              "      <td>0.015072</td>\n",
              "      <td>0.459296</td>\n",
              "      <td>0.018597</td>\n",
              "      <td>0.209173</td>\n",
              "      <td>0.034489</td>\n",
              "      <td>0.261042</td>\n",
              "      <td>0.000832</td>\n",
              "      <td>0.001498</td>\n",
              "      <td>1.677682</td>\n",
              "      <td>2.260471</td>\n",
              "      <td>1.619207</td>\n",
              "      <td>366.682232</td>\n",
              "      <td>2262.851800</td>\n",
              "      <td>1.811414</td>\n",
              "      <td>366.098688</td>\n",
              "      <td>2262.961476</td>\n",
              "      <td>1.927201</td>\n",
              "      <td>366.363672</td>\n",
              "      <td>2291.061233</td>\n",
              "      <td>26.146317</td>\n",
              "      <td>26.018386</td>\n",
              "      <td>26.192945</td>\n",
              "    </tr>\n",
              "    <tr>\n",
              "      <th>std</th>\n",
              "      <td>10.907227</td>\n",
              "      <td>1.606108</td>\n",
              "      <td>11.124611</td>\n",
              "      <td>0.043928</td>\n",
              "      <td>0.211937</td>\n",
              "      <td>0.035180</td>\n",
              "      <td>0.124459</td>\n",
              "      <td>0.037821</td>\n",
              "      <td>0.147224</td>\n",
              "      <td>0.005354</td>\n",
              "      <td>0.011283</td>\n",
              "      <td>0.886148</td>\n",
              "      <td>1.603849</td>\n",
              "      <td>2.931897</td>\n",
              "      <td>66.803638</td>\n",
              "      <td>709.875279</td>\n",
              "      <td>3.181764</td>\n",
              "      <td>62.896498</td>\n",
              "      <td>721.958687</td>\n",
              "      <td>3.260813</td>\n",
              "      <td>65.502988</td>\n",
              "      <td>739.241361</td>\n",
              "      <td>3.318782</td>\n",
              "      <td>3.542588</td>\n",
              "      <td>3.517270</td>\n",
              "    </tr>\n",
              "    <tr>\n",
              "      <th>min</th>\n",
              "      <td>0.000000</td>\n",
              "      <td>0.000000</td>\n",
              "      <td>0.000000</td>\n",
              "      <td>0.000000</td>\n",
              "      <td>0.022275</td>\n",
              "      <td>0.000000</td>\n",
              "      <td>0.006662</td>\n",
              "      <td>0.000924</td>\n",
              "      <td>0.011189</td>\n",
              "      <td>0.000000</td>\n",
              "      <td>0.000000</td>\n",
              "      <td>0.153799</td>\n",
              "      <td>0.000000</td>\n",
              "      <td>0.000000</td>\n",
              "      <td>240.000000</td>\n",
              "      <td>931.428600</td>\n",
              "      <td>0.000000</td>\n",
              "      <td>240.914282</td>\n",
              "      <td>931.428600</td>\n",
              "      <td>0.000000</td>\n",
              "      <td>240.914282</td>\n",
              "      <td>931.428600</td>\n",
              "      <td>18.250000</td>\n",
              "      <td>18.250000</td>\n",
              "      <td>16.892857</td>\n",
              "    </tr>\n",
              "    <tr>\n",
              "      <th>25%</th>\n",
              "      <td>1.000000</td>\n",
              "      <td>0.000000</td>\n",
              "      <td>1.000000</td>\n",
              "      <td>0.000000</td>\n",
              "      <td>0.355609</td>\n",
              "      <td>0.000000</td>\n",
              "      <td>0.100682</td>\n",
              "      <td>0.014950</td>\n",
              "      <td>0.175351</td>\n",
              "      <td>0.000000</td>\n",
              "      <td>0.000000</td>\n",
              "      <td>1.149054</td>\n",
              "      <td>1.123215</td>\n",
              "      <td>0.000000</td>\n",
              "      <td>306.742900</td>\n",
              "      <td>1657.143000</td>\n",
              "      <td>0.000000</td>\n",
              "      <td>306.285700</td>\n",
              "      <td>1622.857000</td>\n",
              "      <td>0.000000</td>\n",
              "      <td>304.000000</td>\n",
              "      <td>1622.857000</td>\n",
              "      <td>23.571430</td>\n",
              "      <td>23.464286</td>\n",
              "      <td>24.142857</td>\n",
              "    </tr>\n",
              "    <tr>\n",
              "      <th>50%</th>\n",
              "      <td>3.000000</td>\n",
              "      <td>0.000000</td>\n",
              "      <td>3.000000</td>\n",
              "      <td>0.000000</td>\n",
              "      <td>0.442641</td>\n",
              "      <td>0.005798</td>\n",
              "      <td>0.210531</td>\n",
              "      <td>0.024347</td>\n",
              "      <td>0.232824</td>\n",
              "      <td>0.000000</td>\n",
              "      <td>0.000000</td>\n",
              "      <td>1.609778</td>\n",
              "      <td>2.171531</td>\n",
              "      <td>0.285714</td>\n",
              "      <td>376.228600</td>\n",
              "      <td>2217.143000</td>\n",
              "      <td>0.428571</td>\n",
              "      <td>375.314300</td>\n",
              "      <td>2217.143000</td>\n",
              "      <td>0.428571</td>\n",
              "      <td>378.057100</td>\n",
              "      <td>2234.286000</td>\n",
              "      <td>26.107140</td>\n",
              "      <td>26.178570</td>\n",
              "      <td>26.821430</td>\n",
              "    </tr>\n",
              "    <tr>\n",
              "      <th>75%</th>\n",
              "      <td>8.000000</td>\n",
              "      <td>0.000000</td>\n",
              "      <td>8.000000</td>\n",
              "      <td>0.001435</td>\n",
              "      <td>0.577111</td>\n",
              "      <td>0.020244</td>\n",
              "      <td>0.282278</td>\n",
              "      <td>0.038069</td>\n",
              "      <td>0.317366</td>\n",
              "      <td>0.000000</td>\n",
              "      <td>0.000000</td>\n",
              "      <td>2.186665</td>\n",
              "      <td>3.421663</td>\n",
              "      <td>1.714286</td>\n",
              "      <td>409.600000</td>\n",
              "      <td>2931.428571</td>\n",
              "      <td>2.000000</td>\n",
              "      <td>406.857138</td>\n",
              "      <td>2960.000000</td>\n",
              "      <td>2.428571</td>\n",
              "      <td>408.228600</td>\n",
              "      <td>3017.143000</td>\n",
              "      <td>29.285714</td>\n",
              "      <td>29.285710</td>\n",
              "      <td>29.321430</td>\n",
              "    </tr>\n",
              "    <tr>\n",
              "      <th>max</th>\n",
              "      <td>135.000000</td>\n",
              "      <td>27.000000</td>\n",
              "      <td>135.000000</td>\n",
              "      <td>0.298961</td>\n",
              "      <td>0.958465</td>\n",
              "      <td>0.185877</td>\n",
              "      <td>0.507728</td>\n",
              "      <td>0.252134</td>\n",
              "      <td>0.719273</td>\n",
              "      <td>0.052033</td>\n",
              "      <td>0.118604</td>\n",
              "      <td>4.283593</td>\n",
              "      <td>6.584843</td>\n",
              "      <td>16.142860</td>\n",
              "      <td>528.457100</td>\n",
              "      <td>3440.000000</td>\n",
              "      <td>16.571430</td>\n",
              "      <td>528.000000</td>\n",
              "      <td>3440.000000</td>\n",
              "      <td>16.571430</td>\n",
              "      <td>528.000000</td>\n",
              "      <td>3440.000000</td>\n",
              "      <td>31.142860</td>\n",
              "      <td>31.142860</td>\n",
              "      <td>31.142860</td>\n",
              "    </tr>\n",
              "  </tbody>\n",
              "</table>\n",
              "</div>"
            ],
            "text/plain": [
              "             y_aeg       y_albo    Total_mos  Proportion_Water_10  \\\n",
              "count  5367.000000  5367.000000  5367.000000          5367.000000   \n",
              "mean      6.592137     0.403764     6.995901             0.015072   \n",
              "std      10.907227     1.606108    11.124611             0.043928   \n",
              "min       0.000000     0.000000     0.000000             0.000000   \n",
              "25%       1.000000     0.000000     1.000000             0.000000   \n",
              "50%       3.000000     0.000000     3.000000             0.000000   \n",
              "75%       8.000000     0.000000     8.000000             0.001435   \n",
              "max     135.000000    27.000000   135.000000             0.298961   \n",
              "\n",
              "       Proportion_Impervious_20  Proportion_Soil_30  Proportion_Tree_40  \\\n",
              "count               5367.000000         5367.000000         5367.000000   \n",
              "mean                   0.459296            0.018597            0.209173   \n",
              "std                    0.211937            0.035180            0.124459   \n",
              "min                    0.022275            0.000000            0.006662   \n",
              "25%                    0.355609            0.000000            0.100682   \n",
              "50%                    0.442641            0.005798            0.210531   \n",
              "75%                    0.577111            0.020244            0.282278   \n",
              "max                    0.958465            0.185877            0.507728   \n",
              "\n",
              "       Proportion_Shrub_52  Proportion_Grass_70  Proportion_WW_91  \\\n",
              "count          5367.000000          5367.000000       5367.000000   \n",
              "mean              0.034489             0.261042          0.000832   \n",
              "std               0.037821             0.147224          0.005354   \n",
              "min               0.000924             0.011189          0.000000   \n",
              "25%               0.014950             0.175351          0.000000   \n",
              "50%               0.024347             0.232824          0.000000   \n",
              "75%               0.038069             0.317366          0.000000   \n",
              "max               0.252134             0.719273          0.052033   \n",
              "\n",
              "       Proportion_EW_92        VegHi   AvgPopDens         Prcp          Rad  \\\n",
              "count       5367.000000  5367.000000  5367.000000  5367.000000  5367.000000   \n",
              "mean           0.001498     1.677682     2.260471     1.619207   366.682232   \n",
              "std            0.011283     0.886148     1.603849     2.931897    66.803638   \n",
              "min            0.000000     0.153799     0.000000     0.000000   240.000000   \n",
              "25%            0.000000     1.149054     1.123215     0.000000   306.742900   \n",
              "50%            0.000000     1.609778     2.171531     0.285714   376.228600   \n",
              "75%            0.000000     2.186665     3.421663     1.714286   409.600000   \n",
              "max            0.118604     4.283593     6.584843    16.142860   528.457100   \n",
              "\n",
              "             VPres       L1Prcp        L1Rad      L1VPres       L2Prcp  \\\n",
              "count  5367.000000  5367.000000  5367.000000  5367.000000  5367.000000   \n",
              "mean   2262.851800     1.811414   366.098688  2262.961476     1.927201   \n",
              "std     709.875279     3.181764    62.896498   721.958687     3.260813   \n",
              "min     931.428600     0.000000   240.914282   931.428600     0.000000   \n",
              "25%    1657.143000     0.000000   306.285700  1622.857000     0.000000   \n",
              "50%    2217.143000     0.428571   375.314300  2217.143000     0.428571   \n",
              "75%    2931.428571     2.000000   406.857138  2960.000000     2.428571   \n",
              "max    3440.000000    16.571430   528.000000  3440.000000    16.571430   \n",
              "\n",
              "             L2Rad      L2Vpres         Temp       L1Temp       L2Temp  \n",
              "count  5367.000000  5367.000000  5367.000000  5367.000000  5367.000000  \n",
              "mean    366.363672  2291.061233    26.146317    26.018386    26.192945  \n",
              "std      65.502988   739.241361     3.318782     3.542588     3.517270  \n",
              "min     240.914282   931.428600    18.250000    18.250000    16.892857  \n",
              "25%     304.000000  1622.857000    23.571430    23.464286    24.142857  \n",
              "50%     378.057100  2234.286000    26.107140    26.178570    26.821430  \n",
              "75%     408.228600  3017.143000    29.285714    29.285710    29.321430  \n",
              "max     528.000000  3440.000000    31.142860    31.142860    31.142860  "
            ]
          },
          "metadata": {
            "tags": []
          },
          "execution_count": 20
        }
      ]
    },
    {
      "cell_type": "markdown",
      "metadata": {
        "id": "Q5Ju-H7OsFHb"
      },
      "source": [
        "Each model considered one of the three target variables: the number of Aedes aegypti mosquitoes caught, the number of Aedes albopictus mosquitoes caught, and the number of both species of mosquitos caught. Each model applied the same feature variables in their creation. The dataset for each model was split into modeling and holdouts sets in which 80% of the data was allocated into the modeling set and 20% of the data was allocated into the holdout set using a shuffle split algorithm. "
      ]
    },
    {
      "cell_type": "code",
      "metadata": {
        "id": "tQfm3dvL20qK"
      },
      "source": [
        "#Modelling datasets for the Aedes aegypti species\n",
        "X_aeg = df_mos.drop(columns=['y_aeg', 'y_albo'])\n",
        "y_aeg = df_mos['y_aeg']\n",
        "\n",
        "holdout_frac = 0.20\n",
        "holdout_splitter = ShuffleSplit(n_splits=5, test_size=holdout_frac, random_state=42)\n",
        "model_idx, holdout_idx = next(holdout_splitter.split(X_aeg, y_aeg))\n",
        "X_aeg_m, y_aeg_m = X_aeg.iloc[model_idx]  , y_aeg.iloc[model_idx]\n",
        "X_aeg_h, y_aeg_h = X_aeg.iloc[holdout_idx], y_aeg.iloc[holdout_idx]\n",
        "\n",
        "#Modelling datasets for the Aedes albopictus species\n",
        "X_alb = df_mos.drop(columns=['y_aeg', 'y_albo'])\n",
        "y_alb = df_mos['y_albo']\n",
        "\n",
        "holdout_frac = 0.20\n",
        "holdout_splitter = ShuffleSplit(n_splits=5, test_size=holdout_frac, random_state=42)\n",
        "model_idx, holdout_idx = next(holdout_splitter.split(X_alb, y_alb))\n",
        "X_alb_m, y_alb_m = X_alb.iloc[model_idx]  , y_alb.iloc[model_idx]\n",
        "X_alb_h, y_alb_h = X_alb.iloc[holdout_idx], y_alb.iloc[holdout_idx]\n",
        "\n",
        "#Modelling datasets for the both species\n",
        "X_tot = df_total.drop(columns=['Total_mos'])\n",
        "y_tot = df_total['Total_mos']\n",
        "\n",
        "holdout_frac = 0.20\n",
        "holdout_splitter = ShuffleSplit(n_splits=5, test_size=holdout_frac, random_state=42)\n",
        "model_idx, holdout_idx = next(holdout_splitter.split(X_tot, y_tot))\n",
        "X_tot_m, y_tot_m = X_tot.iloc[model_idx]  , y_tot.iloc[model_idx]\n",
        "X_tot_h, y_tot_h = X_tot.iloc[holdout_idx], y_tot.iloc[holdout_idx]"
      ],
      "execution_count": null,
      "outputs": []
    },
    {
      "cell_type": "markdown",
      "metadata": {
        "id": "XaW-Spx01sUa"
      },
      "source": [
        "## Supervised Model Building and Selection"
      ]
    },
    {
      "cell_type": "markdown",
      "metadata": {
        "id": "HgilowL7seOr"
      },
      "source": [
        "The regressors for the mosquito counts were the K-Nearest Neighbors regressor, the Random Forest regressor, and the Lasso regressor. For all models, three different scalers were used to transform the data. Those being the standard scaler, the min-max scaler, and the robust scalers. In addition, Principal Components Analysis were applied to each model to determine if lowering the dimension of the model improved the regressor's predictability. The number of dimensions considered were multiples of 5 up until the dimension of the original data set. \n",
        " \n",
        "For the K-Nearest Neighbor regressor, the hyperparameters of interest were the number of neighbors and the weight function used for the prediction. The number of neighbors chosen were multiples of 5 up until 25 and the weight functions considered were the uniform and distance weight functions. \n",
        "\n",
        "For the Random Forest regressor, the hyperparameter of interest was the maximum depth of each decision tree. The maximum depth of each decision tree were multiples of 2 up until 10.\n",
        "\n",
        "For the Lasso regressor, the hyperparameter of interest was the coefficient penalty, alpha. Alpha was given by 9 equally spaced points from 0.2 to 2.\n",
        "\n",
        "For each model, k-fold cross validation was performed using the R squared score as a performance metric."
      ]
    },
    {
      "cell_type": "code",
      "metadata": {
        "id": "vF0zPyjj0tVk"
      },
      "source": [
        "def top_knr(X_m, y_m):\n",
        "    scaler_type = [StandardScaler, MinMaxScaler, RobustScaler]\n",
        "    grid_k = {}\n",
        "    for s in scaler_type:\n",
        "        pipe = Pipeline([('scale', s()),\n",
        "                        ('dim_reduce', PCA()),\n",
        "                        ('classify'  , KNeighborsRegressor())\n",
        "                        ])\n",
        "\n",
        "        hyperparams = {\n",
        "                    'dim_reduce__n_components' : np.concatenate((np.arange(1,2), np.arange(5,21,5), np.arange(22,23)), axis = None),\n",
        "                    'classify__n_neighbors' : np.concatenate((np.arange(1,2), np.arange(5,26,5)), axis = None),\n",
        "                    'classify__weights' : ['uniform', 'distance']\n",
        "                    }\n",
        "        grid_k[\"grid_\" + s.__name__] = GridSearchCV(pipe, hyperparams, cv=10, scoring='r2').fit(X_m, y_m)\n",
        "    res1 = grid_k[\"grid_StandardScaler\"].cv_results_\n",
        "    df1 = pd.DataFrame(res1['params'])\n",
        "    df1['score'] = res1['mean_test_score']\n",
        "    df1['scale'] = 'standard'\n",
        "\n",
        "    res2 = grid_k[\"grid_MinMaxScaler\"].cv_results_\n",
        "    df2 = pd.DataFrame(res2['params'])\n",
        "    df2['score'] = res2['mean_test_score']\n",
        "    df2['scale'] = 'min_max'\n",
        "\n",
        "    res3 = grid_k[\"grid_RobustScaler\"].cv_results_\n",
        "    df3 = pd.DataFrame(res3['params'])\n",
        "    df3['score'] = res3['mean_test_score']\n",
        "    df3['scale'] = 'robust'\n",
        "\n",
        "    res = [df1, df2, df3]\n",
        "    df = pd.concat(res, ignore_index = True)\n",
        "    M = df['score'].quantile(q = 0.95)\n",
        "    mask = df['score'] > M\n",
        "    return df[mask].sort_values(by = 'score', ascending = False)"
      ],
      "execution_count": null,
      "outputs": []
    },
    {
      "cell_type": "code",
      "metadata": {
        "id": "2zRAMwmT4i2Y"
      },
      "source": [
        "def top_rfr(X_m, y_m):\n",
        "    scaler_type = [StandardScaler, MinMaxScaler, RobustScaler]\n",
        "    grid_k = {}\n",
        "    for s in scaler_type:\n",
        "        pipe = Pipeline([('scale', s()),\n",
        "                        ('dim_reduce', PCA()),\n",
        "                        ('classify' , RandomForestRegressor(random_state=42))\n",
        "                        ])\n",
        "\n",
        "        hyperparams = {\n",
        "                    'dim_reduce__n_components' : np.concatenate((np.arange(1,2), np.arange(5,21,5), np.arange(22,23)), axis = None),\n",
        "                    'classify__max_depth' : np.arange(2, 11, 2)\n",
        "                    }\n",
        "        grid_k[\"grid_\" + s.__name__] = GridSearchCV(pipe, hyperparams, cv=10, scoring='r2').fit(X_m, y_m)\n",
        "    res1 = grid_k[\"grid_StandardScaler\"].cv_results_\n",
        "    df1 = pd.DataFrame(res1['params'])\n",
        "    df1['score'] = res1['mean_test_score']\n",
        "    df1['scale'] = 'standard'\n",
        "\n",
        "    res2 = grid_k[\"grid_MinMaxScaler\"].cv_results_\n",
        "    df2 = pd.DataFrame(res2['params'])\n",
        "    df2['score'] = res2['mean_test_score']\n",
        "    df2['scale'] = 'min_max'\n",
        "\n",
        "\n",
        "    res3 = grid_k[\"grid_RobustScaler\"].cv_results_\n",
        "    df3 = pd.DataFrame(res3['params'])\n",
        "    df3['score'] = res3['mean_test_score']\n",
        "    df3['scale'] = 'robust'\n",
        "\n",
        "    res = [df1, df2, df3]\n",
        "    df = pd.concat(res, ignore_index = True)\n",
        "\n",
        "    M = df['score'].quantile(q = 0.95)\n",
        "    mask = df['score'] > M\n",
        "    return df[mask].sort_values(by = 'score', ascending = False)"
      ],
      "execution_count": null,
      "outputs": []
    },
    {
      "cell_type": "code",
      "metadata": {
        "id": "2gfT2Zm_8EMc"
      },
      "source": [
        "def top_las(X_m, y_m):\n",
        "    scaler_type = [StandardScaler, MinMaxScaler, RobustScaler]\n",
        "    grid_k = {}\n",
        "    for s in scaler_type:\n",
        "        pipe = Pipeline([('scale', s()),\n",
        "                        ('dim_reduce', PCA()),\n",
        "                        ('classify'  , Lasso(normalize=False, random_state=42))\n",
        "                        ])\n",
        "\n",
        "        hyperparams = {\n",
        "                    'dim_reduce__n_components' : np.concatenate((np.arange(1,2), np.arange(5,21,5), np.arange(22,23)), axis = None),\n",
        "                    'classify__alpha' : np.linspace(0.2, 2, 9)\n",
        "                    }\n",
        "        grid_k[\"grid_\" + s.__name__] = GridSearchCV(pipe, hyperparams, cv=10, scoring='r2').fit(X_m, y_m)\n",
        "    res1 = grid_k[\"grid_StandardScaler\"].cv_results_\n",
        "    df1 = pd.DataFrame(res1['params'])\n",
        "    df1['score'] = res1['mean_test_score']\n",
        "    df1['scale'] = 'standard'\n",
        "\n",
        "    res2 = grid_k[\"grid_MinMaxScaler\"].cv_results_\n",
        "    df2 = pd.DataFrame(res2['params'])\n",
        "    df2['score'] = res2['mean_test_score']\n",
        "    df2['scale'] = 'min_max'\n",
        "\n",
        "    res3 = grid_k[\"grid_RobustScaler\"].cv_results_\n",
        "    df3 = pd.DataFrame(res3['params'])\n",
        "    df3['score'] = res3['mean_test_score']\n",
        "    df3['scale'] = 'robust'\n",
        "\n",
        "    res = [df1, df2, df3]\n",
        "    df = pd.concat(res, ignore_index = True)\n",
        "    M = df['score'].quantile(q = 0.95)\n",
        "    mask = df['score'] > M\n",
        "    return df[mask].sort_values(by = 'score', ascending = False)"
      ],
      "execution_count": null,
      "outputs": []
    },
    {
      "cell_type": "code",
      "metadata": {
        "id": "K3Fhqk4l3LIw"
      },
      "source": [
        "#All models for Aedes aegypti species\n",
        "aeg_knr = top_knr(X_aeg_m, y_aeg_m)\n",
        "aeg_knr['model'] = 'knr'\n",
        "aeg_knr['species'] = 'aeg'\n",
        "aeg_rfr = top_rfr(X_aeg_m, y_aeg_m)\n",
        "aeg_rfr['model'] = 'rfr'\n",
        "aeg_rfr['species'] = 'aeg'\n",
        "aeg_las = top_las(X_aeg_m, y_aeg_m)\n",
        "aeg_las['model'] = 'las'\n",
        "aeg_las['species'] = 'aeg'\n",
        "\n",
        "\n",
        "#Best models for Aedes aegypti species\n",
        "M1 = aeg_knr['score'].max()\n",
        "M2 = aeg_rfr['score'].max()\n",
        "M3 = aeg_las['score'].max()\n",
        "mask1 = aeg_knr['score'] == M1\n",
        "mask2 = aeg_rfr['score'] == M2\n",
        "mask3 = aeg_las['score'] == M3\n",
        "\n",
        "\n",
        "aeg_model = [aeg_knr[mask1], aeg_rfr[mask2], aeg_las[mask3]]\n",
        "aeg_scores = [aeg_knr[mask1]['score'].iloc[0], aeg_rfr[mask2]['score'].iloc[0], aeg_las[mask3]['score'].iloc[0]]\n",
        "aeg_model_best = aeg_model[np.argmax(aeg_scores)]"
      ],
      "execution_count": null,
      "outputs": []
    },
    {
      "cell_type": "code",
      "metadata": {
        "colab": {
          "base_uri": "https://localhost:8080/",
          "height": 81
        },
        "id": "7vilpRlc-oRD",
        "outputId": "13fe55b8-a7f5-46c8-f9a7-7dd874777f10"
      },
      "source": [
        "aeg_model_best"
      ],
      "execution_count": null,
      "outputs": [
        {
          "output_type": "execute_result",
          "data": {
            "text/html": [
              "<div>\n",
              "<style scoped>\n",
              "    .dataframe tbody tr th:only-of-type {\n",
              "        vertical-align: middle;\n",
              "    }\n",
              "\n",
              "    .dataframe tbody tr th {\n",
              "        vertical-align: top;\n",
              "    }\n",
              "\n",
              "    .dataframe thead th {\n",
              "        text-align: right;\n",
              "    }\n",
              "</style>\n",
              "<table border=\"1\" class=\"dataframe\">\n",
              "  <thead>\n",
              "    <tr style=\"text-align: right;\">\n",
              "      <th></th>\n",
              "      <th>classify__max_depth</th>\n",
              "      <th>dim_reduce__n_components</th>\n",
              "      <th>score</th>\n",
              "      <th>scale</th>\n",
              "      <th>model</th>\n",
              "      <th>species</th>\n",
              "    </tr>\n",
              "  </thead>\n",
              "  <tbody>\n",
              "    <tr>\n",
              "      <th>0</th>\n",
              "      <td>10</td>\n",
              "      <td>15</td>\n",
              "      <td>0.388783</td>\n",
              "      <td>robust</td>\n",
              "      <td>rfr</td>\n",
              "      <td>aeg</td>\n",
              "    </tr>\n",
              "  </tbody>\n",
              "</table>\n",
              "</div>"
            ],
            "text/plain": [
              "   classify__max_depth  dim_reduce__n_components     score   scale model  \\\n",
              "0                   10                        15  0.388783  robust   rfr   \n",
              "\n",
              "  species  \n",
              "0     aeg  "
            ]
          },
          "metadata": {
            "tags": []
          },
          "execution_count": 53
        }
      ]
    },
    {
      "cell_type": "code",
      "metadata": {
        "id": "AD2iHxVS3kho"
      },
      "source": [
        "#All models for Aedes albopictus species\n",
        "alb_knr = top_knr(X_alb_m, y_alb_m)\n",
        "alb_knr['model'] = 'knr'\n",
        "alb_knr['species'] = 'alb'\n",
        "alb_rfr = top_rfr(X_alb_m, y_alb_m)\n",
        "alb_rfr['model'] = 'rfr'\n",
        "alb_rfr['species'] = 'alb'\n",
        "alb_las = top_las(X_alb_m, y_alb_m)\n",
        "alb_las['model'] = 'las'\n",
        "alb_las['species'] = 'alb'\n",
        "\n",
        "#Best models for Aedes albopictus species\n",
        "M1 = alb_knr['score'].max()\n",
        "M2 = alb_rfr['score'].max()\n",
        "M3 = alb_las['score'].max()\n",
        "mask1 = alb_knr['score'] == M1\n",
        "mask2 = alb_rfr['score'] == M2\n",
        "mask3 = alb_las['score'] == M3\n",
        "\n",
        "alb_model = [alb_knr[mask1], alb_rfr[mask2], alb_las[mask3]]\n",
        "alb_scores = [alb_knr[mask1]['score'].iloc[0], alb_rfr[mask2]['score'].iloc[0], alb_las[mask3]['score'].iloc[0]]\n",
        "alb_model_best = alb_model[np.argmax(alb_scores)]"
      ],
      "execution_count": null,
      "outputs": []
    },
    {
      "cell_type": "code",
      "metadata": {
        "colab": {
          "base_uri": "https://localhost:8080/",
          "height": 81
        },
        "id": "vwD1l39v-poz",
        "outputId": "80b8e5f7-09f3-4545-9bdc-0826f6af80fc"
      },
      "source": [
        "alb_model_best"
      ],
      "execution_count": null,
      "outputs": [
        {
          "output_type": "execute_result",
          "data": {
            "text/html": [
              "<div>\n",
              "<style scoped>\n",
              "    .dataframe tbody tr th:only-of-type {\n",
              "        vertical-align: middle;\n",
              "    }\n",
              "\n",
              "    .dataframe tbody tr th {\n",
              "        vertical-align: top;\n",
              "    }\n",
              "\n",
              "    .dataframe thead th {\n",
              "        text-align: right;\n",
              "    }\n",
              "</style>\n",
              "<table border=\"1\" class=\"dataframe\">\n",
              "  <thead>\n",
              "    <tr style=\"text-align: right;\">\n",
              "      <th></th>\n",
              "      <th>classify__n_neighbors</th>\n",
              "      <th>classify__weights</th>\n",
              "      <th>dim_reduce__n_components</th>\n",
              "      <th>score</th>\n",
              "      <th>scale</th>\n",
              "      <th>model</th>\n",
              "      <th>species</th>\n",
              "    </tr>\n",
              "  </thead>\n",
              "  <tbody>\n",
              "    <tr>\n",
              "      <th>0</th>\n",
              "      <td>15</td>\n",
              "      <td>uniform</td>\n",
              "      <td>10</td>\n",
              "      <td>0.277847</td>\n",
              "      <td>standard</td>\n",
              "      <td>knr</td>\n",
              "      <td>alb</td>\n",
              "    </tr>\n",
              "  </tbody>\n",
              "</table>\n",
              "</div>"
            ],
            "text/plain": [
              "   classify__n_neighbors classify__weights  dim_reduce__n_components  \\\n",
              "0                     15           uniform                        10   \n",
              "\n",
              "      score     scale model species  \n",
              "0  0.277847  standard   knr     alb  "
            ]
          },
          "metadata": {
            "tags": []
          },
          "execution_count": 54
        }
      ]
    },
    {
      "cell_type": "code",
      "metadata": {
        "id": "5elI35iI3k0-"
      },
      "source": [
        "#All models for both species\n",
        "tot_knr = top_knr(X_tot_m, y_tot_m)\n",
        "tot_knr['model'] = 'knr'\n",
        "tot_knr['species'] = 'tot'\n",
        "tot_rfr = top_rfr(X_tot_m, y_tot_m)\n",
        "tot_rfr['model'] = 'rfr'\n",
        "tot_rfr['species'] = 'tot'\n",
        "tot_las = top_las(X_tot_m, y_tot_m)\n",
        "tot_las['model'] = 'las'\n",
        "tot_las['species'] = 'tot'\n",
        "\n",
        "#Best models for both species\n",
        "M1 = tot_knr['score'].max()\n",
        "M2 = tot_rfr['score'].max()\n",
        "M3 = tot_las['score'].max()\n",
        "mask1 = tot_knr['score'] == M1\n",
        "mask2 = tot_rfr['score'] == M2\n",
        "mask3 = tot_las['score'] == M3\n",
        "\n",
        "tot_model = [tot_knr[mask1], tot_rfr[mask2], tot_las[mask3]]\n",
        "tot_scores = [tot_knr[mask1]['score'].iloc[0], tot_rfr[mask2]['score'].iloc[0], tot_las[mask3]['score'].iloc[0]]\n",
        "tot_model_best = tot_model[np.argmax(tot_scores)]"
      ],
      "execution_count": null,
      "outputs": []
    },
    {
      "cell_type": "code",
      "metadata": {
        "colab": {
          "base_uri": "https://localhost:8080/",
          "height": 81
        },
        "id": "oObUbSD1HL48",
        "outputId": "f561a806-73bc-44d2-c3eb-77182317c13e"
      },
      "source": [
        "tot_model_best"
      ],
      "execution_count": null,
      "outputs": [
        {
          "output_type": "execute_result",
          "data": {
            "text/html": [
              "<div>\n",
              "<style scoped>\n",
              "    .dataframe tbody tr th:only-of-type {\n",
              "        vertical-align: middle;\n",
              "    }\n",
              "\n",
              "    .dataframe tbody tr th {\n",
              "        vertical-align: top;\n",
              "    }\n",
              "\n",
              "    .dataframe thead th {\n",
              "        text-align: right;\n",
              "    }\n",
              "</style>\n",
              "<table border=\"1\" class=\"dataframe\">\n",
              "  <thead>\n",
              "    <tr style=\"text-align: right;\">\n",
              "      <th></th>\n",
              "      <th>classify__max_depth</th>\n",
              "      <th>dim_reduce__n_components</th>\n",
              "      <th>score</th>\n",
              "      <th>scale</th>\n",
              "      <th>model</th>\n",
              "      <th>species</th>\n",
              "    </tr>\n",
              "  </thead>\n",
              "  <tbody>\n",
              "    <tr>\n",
              "      <th>0</th>\n",
              "      <td>10</td>\n",
              "      <td>15</td>\n",
              "      <td>0.380785</td>\n",
              "      <td>standard</td>\n",
              "      <td>rfr</td>\n",
              "      <td>tot</td>\n",
              "    </tr>\n",
              "  </tbody>\n",
              "</table>\n",
              "</div>"
            ],
            "text/plain": [
              "   classify__max_depth  dim_reduce__n_components     score     scale model  \\\n",
              "0                   10                        15  0.380785  standard   rfr   \n",
              "\n",
              "  species  \n",
              "0     tot  "
            ]
          },
          "metadata": {
            "tags": []
          },
          "execution_count": 55
        }
      ]
    },
    {
      "cell_type": "markdown",
      "metadata": {
        "id": "C5BHcCD0OFUC"
      },
      "source": [
        "Result Summary: \n",
        "- The best model for the count of the *Aedes aegypti* species was the Random Forest regressor which applied a max depth of 10 for the decision trees and in which the data was scaled by the robust scaler and the data was reduced to 10 dimensions. \n",
        "\n",
        "- The best model for the count of the *Aedes albopictus* species was the K-Nearest Neighbor regressor which applied the uniform weight function and 15 neighbors and in which the data was scaled by the standard scaler and the data was reduced to 15 dimensions.\n",
        "\n",
        "- The best model for the count of both species was the Random Forest regressor which applied a max depth of 10 for the decision trees and in which the data was scaled by the standard scaler and the data was reduced to 10 dimensions. "
      ]
    },
    {
      "cell_type": "markdown",
      "metadata": {
        "id": "e92OMaCn2AwU"
      },
      "source": [
        "## Model Performance"
      ]
    },
    {
      "cell_type": "markdown",
      "metadata": {
        "id": "pLsY-4fWS8ML"
      },
      "source": [
        "Using the best models found in the last section, their performance on the holdout sets were evaluated using the R squared (R2) score as well as the root mean square error (RMSE)."
      ]
    },
    {
      "cell_type": "code",
      "metadata": {
        "colab": {
          "base_uri": "https://localhost:8080/",
          "height": 81
        },
        "id": "raZcjpZrJFfC",
        "outputId": "bd038d77-dbd1-4664-9ab1-1cc0dcf9f644"
      },
      "source": [
        "#Best model for Aedes aegypti species applied to Holdout set\n",
        "pipe = Pipeline([('scale', RobustScaler()),\n",
        "                ('dim_reduce', PCA(n_components=10)),\n",
        "                ('classify'  , RandomForestRegressor(max_depth=10, random_state=42))\n",
        "                ])\n",
        "y_true = y_aeg_h\n",
        "y_pred = pipe.fit(X_aeg_m,y_aeg_m).predict(X_aeg_h)\n",
        "aeg_RMSE = mean_squared_error(y_true, y_pred, squared=False) \n",
        "aeg_R2 = r2_score(y_true, y_pred)\n",
        "pd.DataFrame([[aeg_R2, aeg_RMSE]], columns=['R2','RMSE'])"
      ],
      "execution_count": null,
      "outputs": [
        {
          "output_type": "execute_result",
          "data": {
            "text/html": [
              "<div>\n",
              "<style scoped>\n",
              "    .dataframe tbody tr th:only-of-type {\n",
              "        vertical-align: middle;\n",
              "    }\n",
              "\n",
              "    .dataframe tbody tr th {\n",
              "        vertical-align: top;\n",
              "    }\n",
              "\n",
              "    .dataframe thead th {\n",
              "        text-align: right;\n",
              "    }\n",
              "</style>\n",
              "<table border=\"1\" class=\"dataframe\">\n",
              "  <thead>\n",
              "    <tr style=\"text-align: right;\">\n",
              "      <th></th>\n",
              "      <th>R2</th>\n",
              "      <th>RMSE</th>\n",
              "    </tr>\n",
              "  </thead>\n",
              "  <tbody>\n",
              "    <tr>\n",
              "      <th>0</th>\n",
              "      <td>0.435726</td>\n",
              "      <td>7.635992</td>\n",
              "    </tr>\n",
              "  </tbody>\n",
              "</table>\n",
              "</div>"
            ],
            "text/plain": [
              "         R2      RMSE\n",
              "0  0.435726  7.635992"
            ]
          },
          "metadata": {
            "tags": []
          },
          "execution_count": 30
        }
      ]
    },
    {
      "cell_type": "code",
      "metadata": {
        "colab": {
          "base_uri": "https://localhost:8080/",
          "height": 81
        },
        "id": "hrD4QEcmMl4z",
        "outputId": "db3bf495-fa45-4acd-eebc-92e1d7fd5b44"
      },
      "source": [
        "#Best model for Aedes albopictus species applied to Holdout set\n",
        "pipe = Pipeline([('scale', StandardScaler()),\n",
        "                ('dim_reduce', PCA(n_components=15)),\n",
        "                ('classify'  , KNeighborsRegressor(n_neighbors=15, weights='uniform'))\n",
        "                ])\n",
        "y_true = y_alb_h\n",
        "y_pred = pipe.fit(X_alb_m,y_alb_m).predict(X_alb_h)\n",
        "alb_RMSE = mean_squared_error(y_true, y_pred, squared=False) \n",
        "alb_R2 = r2_score(y_true, y_pred)\n",
        "pd.DataFrame([[alb_R2, alb_RMSE]], columns=['R2','RMSE'])"
      ],
      "execution_count": null,
      "outputs": [
        {
          "output_type": "execute_result",
          "data": {
            "text/html": [
              "<div>\n",
              "<style scoped>\n",
              "    .dataframe tbody tr th:only-of-type {\n",
              "        vertical-align: middle;\n",
              "    }\n",
              "\n",
              "    .dataframe tbody tr th {\n",
              "        vertical-align: top;\n",
              "    }\n",
              "\n",
              "    .dataframe thead th {\n",
              "        text-align: right;\n",
              "    }\n",
              "</style>\n",
              "<table border=\"1\" class=\"dataframe\">\n",
              "  <thead>\n",
              "    <tr style=\"text-align: right;\">\n",
              "      <th></th>\n",
              "      <th>R2</th>\n",
              "      <th>RMSE</th>\n",
              "    </tr>\n",
              "  </thead>\n",
              "  <tbody>\n",
              "    <tr>\n",
              "      <th>0</th>\n",
              "      <td>0.033528</td>\n",
              "      <td>1.038274</td>\n",
              "    </tr>\n",
              "  </tbody>\n",
              "</table>\n",
              "</div>"
            ],
            "text/plain": [
              "         R2      RMSE\n",
              "0  0.033528  1.038274"
            ]
          },
          "metadata": {
            "tags": []
          },
          "execution_count": 31
        }
      ]
    },
    {
      "cell_type": "code",
      "metadata": {
        "colab": {
          "base_uri": "https://localhost:8080/",
          "height": 81
        },
        "id": "6ueEqWAtMppo",
        "outputId": "262bc62e-152b-4718-95ea-eece2894807a"
      },
      "source": [
        "#Best model for both species species applied to Holdout set\n",
        "pipe = Pipeline([('scale', StandardScaler()),\n",
        "                ('dim_reduce', PCA(n_components=10)),\n",
        "                ('classify'  , RandomForestRegressor(max_depth=10, random_state=42))\n",
        "                ])\n",
        "y_true = y_tot_h\n",
        "y_pred = pipe.fit(X_tot_m,y_tot_m).predict(X_tot_h)\n",
        "tot_RMSE = mean_squared_error(y_true, y_pred, squared=False) \n",
        "tot_R2 = r2_score(y_true, y_pred)\n",
        "pd.DataFrame([[tot_R2, tot_RMSE]], columns=['R2','RMSE'])"
      ],
      "execution_count": null,
      "outputs": [
        {
          "output_type": "execute_result",
          "data": {
            "text/html": [
              "<div>\n",
              "<style scoped>\n",
              "    .dataframe tbody tr th:only-of-type {\n",
              "        vertical-align: middle;\n",
              "    }\n",
              "\n",
              "    .dataframe tbody tr th {\n",
              "        vertical-align: top;\n",
              "    }\n",
              "\n",
              "    .dataframe thead th {\n",
              "        text-align: right;\n",
              "    }\n",
              "</style>\n",
              "<table border=\"1\" class=\"dataframe\">\n",
              "  <thead>\n",
              "    <tr style=\"text-align: right;\">\n",
              "      <th></th>\n",
              "      <th>R2</th>\n",
              "      <th>RMSE</th>\n",
              "    </tr>\n",
              "  </thead>\n",
              "  <tbody>\n",
              "    <tr>\n",
              "      <th>0</th>\n",
              "      <td>0.449531</td>\n",
              "      <td>7.623745</td>\n",
              "    </tr>\n",
              "  </tbody>\n",
              "</table>\n",
              "</div>"
            ],
            "text/plain": [
              "         R2      RMSE\n",
              "0  0.449531  7.623745"
            ]
          },
          "metadata": {
            "tags": []
          },
          "execution_count": 29
        }
      ]
    },
    {
      "cell_type": "markdown",
      "metadata": {
        "id": "g2vPr-BxfPJV"
      },
      "source": [
        "The models applied to the holdout sets for *Aedes aegypti* and both species had positive results. The R squared value suggests that around 43% of the variance of the mosquito counts can be explained by the model. In additions to this, the RMSE suggests that the model deviated on average by around 7 mosquitoes from the true counts. One issue that may come from this model is the maximum depth for the Random Forest Regressor. Normally, components of random forests, decision trees, tend to overfit when the maximum depth of these trees is too high. For that reason, there may be some issues in regards to generalizing this model to future data points.  \r\n",
        "\r\n",
        "The model applied to the holdout set for *Aedes albopictus* did relatively poorly. Although the RMSE suggests that the model deviated on average by around 1 mosquito from the true counts, the R squared value suggest that only around 3% of the variance of the mosquito counts can be explained by the model. This is likely due to underfitting since the K-Nearest Neighbors algorithm tends to underfit the data as the number of neighbors increases. Another factor that may have played a part in this score is the fact that most of the data values for this species was 0. "
      ]
    },
    {
      "cell_type": "markdown",
      "metadata": {
        "id": "xg22sj6s2Iw1"
      },
      "source": [
        "## Conclusion"
      ]
    },
    {
      "cell_type": "markdown",
      "metadata": {
        "id": "a20ILsLul7-C"
      },
      "source": [
        "In this project, the data collected on the number of mosquitoes for two different species caught in traps throughout Brownsville, TX, was explored. By applying three different regression algorithms, the number of mosquitoes was predicted from ecological and meteorological variables. Overall, it was shown that the Random Forest regressor gave the best results when applied to the *Aedes aegypti* species and to both species collectively. However, the best model calculated for the *Aedes albopictus* species performed poorly with respect to the R squared score likely due to underfitting. These results are summarized in the tables and charts below.  "
      ]
    },
    {
      "cell_type": "code",
      "metadata": {
        "colab": {
          "base_uri": "https://localhost:8080/",
          "height": 81
        },
        "id": "oOIsQ1jUJzev",
        "outputId": "830fbaa8-921d-4eb3-c04f-0b105e822ed4"
      },
      "source": [
        "aeg_model_best_rev = aeg_model_best.rename(columns={'classify__max_depth': 'max depth',\r\n",
        "                                                    'dim_reduce__n_components': 'reduced dimension',\r\n",
        "                                                    'score': 'R2 score'})\r\n",
        "aeg_model_best_rev.at[0,'model'] = 'random forest'\r\n",
        "aeg_model_best_rev"
      ],
      "execution_count": null,
      "outputs": [
        {
          "output_type": "execute_result",
          "data": {
            "text/html": [
              "<div>\n",
              "<style scoped>\n",
              "    .dataframe tbody tr th:only-of-type {\n",
              "        vertical-align: middle;\n",
              "    }\n",
              "\n",
              "    .dataframe tbody tr th {\n",
              "        vertical-align: top;\n",
              "    }\n",
              "\n",
              "    .dataframe thead th {\n",
              "        text-align: right;\n",
              "    }\n",
              "</style>\n",
              "<table border=\"1\" class=\"dataframe\">\n",
              "  <thead>\n",
              "    <tr style=\"text-align: right;\">\n",
              "      <th></th>\n",
              "      <th>max depth</th>\n",
              "      <th>reduced dimension</th>\n",
              "      <th>R2 score</th>\n",
              "      <th>scale</th>\n",
              "      <th>model</th>\n",
              "      <th>species</th>\n",
              "    </tr>\n",
              "  </thead>\n",
              "  <tbody>\n",
              "    <tr>\n",
              "      <th>0</th>\n",
              "      <td>10</td>\n",
              "      <td>15</td>\n",
              "      <td>0.388783</td>\n",
              "      <td>robust</td>\n",
              "      <td>random forest</td>\n",
              "      <td>aeg</td>\n",
              "    </tr>\n",
              "  </tbody>\n",
              "</table>\n",
              "</div>"
            ],
            "text/plain": [
              "   max depth  reduced dimension  R2 score   scale          model species\n",
              "0         10                 15  0.388783  robust  random forest     aeg"
            ]
          },
          "metadata": {
            "tags": []
          },
          "execution_count": 50
        }
      ]
    },
    {
      "cell_type": "code",
      "metadata": {
        "colab": {
          "base_uri": "https://localhost:8080/",
          "height": 81
        },
        "id": "Bom4GlqcJ2QQ",
        "outputId": "73cc27ab-d269-4bbf-b01e-b14c91279dfa"
      },
      "source": [
        "alb_model_best_rev = alb_model_best.rename(columns={'classify__n_neighbors': 'neighbors',\r\n",
        "                                                    'classify__weights': 'weight',\r\n",
        "                                                    'dim_reduce__n_components': 'reduced dimension',\r\n",
        "                                                    'score': 'R2 score'})\r\n",
        "alb_model_best_rev.at[0,'model'] = 'k-nearest neighbors'\r\n",
        "alb_model_best_rev\r\n"
      ],
      "execution_count": null,
      "outputs": [
        {
          "output_type": "execute_result",
          "data": {
            "text/html": [
              "<div>\n",
              "<style scoped>\n",
              "    .dataframe tbody tr th:only-of-type {\n",
              "        vertical-align: middle;\n",
              "    }\n",
              "\n",
              "    .dataframe tbody tr th {\n",
              "        vertical-align: top;\n",
              "    }\n",
              "\n",
              "    .dataframe thead th {\n",
              "        text-align: right;\n",
              "    }\n",
              "</style>\n",
              "<table border=\"1\" class=\"dataframe\">\n",
              "  <thead>\n",
              "    <tr style=\"text-align: right;\">\n",
              "      <th></th>\n",
              "      <th>neighbors</th>\n",
              "      <th>weight</th>\n",
              "      <th>reduced dimension</th>\n",
              "      <th>R2 score</th>\n",
              "      <th>scale</th>\n",
              "      <th>model</th>\n",
              "      <th>species</th>\n",
              "    </tr>\n",
              "  </thead>\n",
              "  <tbody>\n",
              "    <tr>\n",
              "      <th>0</th>\n",
              "      <td>15</td>\n",
              "      <td>uniform</td>\n",
              "      <td>10</td>\n",
              "      <td>0.277847</td>\n",
              "      <td>standard</td>\n",
              "      <td>k-nearest neighbors</td>\n",
              "      <td>alb</td>\n",
              "    </tr>\n",
              "  </tbody>\n",
              "</table>\n",
              "</div>"
            ],
            "text/plain": [
              "   neighbors   weight  reduced dimension  R2 score     scale  \\\n",
              "0         15  uniform                 10  0.277847  standard   \n",
              "\n",
              "                 model species  \n",
              "0  k-nearest neighbors     alb  "
            ]
          },
          "metadata": {
            "tags": []
          },
          "execution_count": 51
        }
      ]
    },
    {
      "cell_type": "code",
      "metadata": {
        "colab": {
          "base_uri": "https://localhost:8080/",
          "height": 81
        },
        "id": "kVODy2IDJ2wX",
        "outputId": "030bede5-e5f3-4b51-91ac-3ece89d1ca45"
      },
      "source": [
        "tot_model_best_rev = aeg_model_best.rename(columns={'classify__max_depth': 'max depth',\r\n",
        "                                                    'dim_reduce__n_components': 'reduced dimension',\r\n",
        "                                                    'score': 'R2 score'})\r\n",
        "tot_model_best_rev.at[0,'model'] = 'random forest'\r\n",
        "tot_model_best_rev.at[0,'species'] = 'both'\r\n",
        "tot_model_best_rev"
      ],
      "execution_count": null,
      "outputs": [
        {
          "output_type": "execute_result",
          "data": {
            "text/html": [
              "<div>\n",
              "<style scoped>\n",
              "    .dataframe tbody tr th:only-of-type {\n",
              "        vertical-align: middle;\n",
              "    }\n",
              "\n",
              "    .dataframe tbody tr th {\n",
              "        vertical-align: top;\n",
              "    }\n",
              "\n",
              "    .dataframe thead th {\n",
              "        text-align: right;\n",
              "    }\n",
              "</style>\n",
              "<table border=\"1\" class=\"dataframe\">\n",
              "  <thead>\n",
              "    <tr style=\"text-align: right;\">\n",
              "      <th></th>\n",
              "      <th>max depth</th>\n",
              "      <th>reduced dimension</th>\n",
              "      <th>R2 score</th>\n",
              "      <th>scale</th>\n",
              "      <th>model</th>\n",
              "      <th>species</th>\n",
              "    </tr>\n",
              "  </thead>\n",
              "  <tbody>\n",
              "    <tr>\n",
              "      <th>0</th>\n",
              "      <td>10</td>\n",
              "      <td>15</td>\n",
              "      <td>0.388783</td>\n",
              "      <td>robust</td>\n",
              "      <td>random forest</td>\n",
              "      <td>both</td>\n",
              "    </tr>\n",
              "  </tbody>\n",
              "</table>\n",
              "</div>"
            ],
            "text/plain": [
              "   max depth  reduced dimension  R2 score   scale          model species\n",
              "0         10                 15  0.388783  robust  random forest    both"
            ]
          },
          "metadata": {
            "tags": []
          },
          "execution_count": 52
        }
      ]
    },
    {
      "cell_type": "markdown",
      "metadata": {
        "id": "kOwg1O9S6QJE"
      },
      "source": [
        "![R2_scores.png](data:image/png;base64,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)\r\n",
        "\r\n",
        "\r\n",
        "\r\n",
        "\r\n",
        "\r\n",
        "\r\n",
        "\r\n"
      ]
    },
    {
      "cell_type": "markdown",
      "metadata": {
        "id": "axhQqyjs89nh"
      },
      "source": [
        "If there was more time to pursue this project, the performance of the second best models could be considered. In addition, Support Vector Machine regression, Ridge regression, and Elastic-Net regression are other models that could be applied to the dataset as well. The application of other ensemble methods such as Gradient Boosting regression to the data set is an option that could be explored as well. "
      ]
    },
    {
      "cell_type": "markdown",
      "metadata": {
        "id": "932uJXD12LgV"
      },
      "source": [
        "## References\n",
        "- Fraj, M. B. (2017, December 21). *In Depth: Parameter tuning for Random Forest.* All Things AI. https://medium.com/all-things-ai/in-depth-parameter-tuning-for-random-forest-d67bb7e920d\n",
        "\n",
        "- Moody, J. (2017, December 21). *What does RMSE really mean?* Towards Data Science. https://towardsdatascience.com/what-does-rmse-really-mean-806b65f2e48e\n",
        "\n",
        "- Myer, M. H., Fizer, C. M., McPherson, K. R., Neale, A. C., Pilant, A. N., Rodriguez, A., ... & Johnston, J. M. (2019). Mapping Aedes aegypti (Diptera: Culicidae) and Aedes albopictus Vector Mosquito Distribution in Brownsville, TX. *Journal of medical entomology, 57(1)*, 231-240.\n",
        "\n",
        "- Scikit-learn: Machine Learning in Python. (2020) *1.1. Linear Models.* https://scikit-learn.org/stable/modules/linear_model.html#lasso"
      ]
    }
  ]
}